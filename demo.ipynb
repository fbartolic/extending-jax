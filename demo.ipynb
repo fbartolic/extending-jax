{
 "cells": [
  {
   "cell_type": "code",
   "execution_count": 1,
   "metadata": {
    "colab": {
     "base_uri": "https://localhost:8080/",
     "height": 334
    },
    "id": "4Vn6SYstAUdV",
    "outputId": "820bf5e5-dd46-480a-f5b0-26c2cb5bf2c7"
   },
   "outputs": [
    {
     "name": "stdout",
     "output_type": "stream",
     "text": [
      "gpu_ops: None\n"
     ]
    }
   ],
   "source": [
    "from jax.config import config\n",
    "config.update(\"jax_enable_x64\", True)\n",
    "config.update('jax_platform_name', 'cpu')\n",
    "\n",
    "import jax.numpy as jnp\n",
    "\n",
    "from ehrlich_aberth_jax import ehrlich_aberth"
   ]
  },
  {
   "cell_type": "code",
   "execution_count": 2,
   "metadata": {},
   "outputs": [
    {
     "data": {
      "text/plain": [
       "(3, 6)"
      ]
     },
     "execution_count": 2,
     "metadata": {},
     "output_type": "execute_result"
    }
   ],
   "source": [
    "p = jnp.array([\n",
    "    -0.09681953 -0.00090856j,\n",
    "    2.01207803 -0.0004709j,\n",
    "    -1.12402336 + 0.00979704j,\n",
    "    -1.54998502 -0.01104674j,\n",
    "    1.1198831 + 0.00012531j,\n",
    "    -0.00506219 + 0.00697788j,\n",
    "])\n",
    "\n",
    "coeffs = jnp.stack([p, p, p])\n",
    "coeffs.shape"
   ]
  },
  {
   "cell_type": "code",
   "execution_count": 3,
   "metadata": {},
   "outputs": [
    {
     "data": {
      "text/plain": [
       "DeviceArray([-1.09425822e+00+2.14869742e-03j,\n",
       "              1.21745072e+00+3.29980869e-01j,\n",
       "              4.95830597e-02+4.81110913e-04j,\n",
       "              1.22444263e+00-3.41449050e-01j,\n",
       "              7.48736068e+01+1.05167668e+02j,\n",
       "             -1.09425822e+00+2.14869742e-03j,\n",
       "              1.21745072e+00+3.29980869e-01j,\n",
       "              4.95830597e-02+4.81110913e-04j,\n",
       "              1.22444263e+00-3.41449050e-01j,\n",
       "              7.48736068e+01+1.05167668e+02j,\n",
       "             -1.09425822e+00+2.14869742e-03j,\n",
       "              1.21745072e+00+3.29980869e-01j,\n",
       "              4.95830597e-02+4.81110913e-04j,\n",
       "              1.22444263e+00-3.41449050e-01j,\n",
       "              7.48736068e+01+1.05167668e+02j], dtype=complex128)"
      ]
     },
     "execution_count": 3,
     "metadata": {},
     "output_type": "execute_result"
    }
   ],
   "source": [
    "res = ehrlich_aberth(coeffs)\n",
    "res"
   ]
  },
  {
   "cell_type": "code",
   "execution_count": 4,
   "metadata": {},
   "outputs": [
    {
     "data": {
      "text/plain": [
       "DeviceArray(-1.09425822+0.0021487j, dtype=complex128)"
      ]
     },
     "execution_count": 4,
     "metadata": {},
     "output_type": "execute_result"
    }
   ],
   "source": [
    "res[0]"
   ]
  },
  {
   "cell_type": "code",
   "execution_count": null,
   "metadata": {},
   "outputs": [],
   "source": []
  }
 ],
 "metadata": {
  "colab": {
   "collapsed_sections": [],
   "name": "extending-jax-demo.ipynb",
   "provenance": []
  },
  "kernelspec": {
   "display_name": "caustics)",
   "language": "python",
   "name": "caustics"
  },
  "language_info": {
   "codemirror_mode": {
    "name": "ipython",
    "version": 3
   },
   "file_extension": ".py",
   "mimetype": "text/x-python",
   "name": "python",
   "nbconvert_exporter": "python",
   "pygments_lexer": "ipython3",
   "version": "3.9.9"
  }
 },
 "nbformat": 4,
 "nbformat_minor": 4
}
