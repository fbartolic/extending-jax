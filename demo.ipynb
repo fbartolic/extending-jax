{
 "cells": [
  {
   "cell_type": "code",
   "execution_count": 1,
   "metadata": {
    "colab": {
     "base_uri": "https://localhost:8080/"
    },
    "id": "CQ1VJptcACy0",
    "outputId": "3f3726e5-8c41-4ffa-b933-04acbc26133b"
   },
   "outputs": [],
   "source": [
    "%matplotlib inline\n",
    "!python -m pip install -q git+https://github.com/fbartolic/extending-jax.git"
   ]
  },
  {
   "cell_type": "code",
   "execution_count": null,
   "metadata": {
    "colab": {
     "base_uri": "https://localhost:8080/",
     "height": 334
    },
    "id": "4Vn6SYstAUdV",
    "outputId": "820bf5e5-dd46-480a-f5b0-26c2cb5bf2c7"
   },
   "outputs": [
    {
     "name": "stderr",
     "output_type": "stream",
     "text": [
      "/Users/fb90/miniforge3/envs/mapping/lib/python3.9/site-packages/jax/_src/lib/__init__.py:32: UserWarning: JAX on Mac ARM machines is experimental and minimally tested. Please see https://github.com/google/jax/issues/5501 in the event of problems.\n",
      "  warnings.warn(\"JAX on Mac ARM machines is experimental and minimally tested. \"\n"
     ]
    }
   ],
   "source": [
    "from jax.config import config\n",
    "\n",
    "config.update(\"jax_enable_x64\", True)\n",
    "\n",
    "from jax import random\n",
    "import jax.numpy as jnp\n",
    "\n",
    "from aberth_ehrlich_jax import aberth_ehrlich"
   ]
  }
 ],
 "metadata": {
  "colab": {
   "collapsed_sections": [],
   "name": "extending-jax-demo.ipynb",
   "provenance": []
  },
  "kernelspec": {
   "display_name": "Python [conda env:mapping]",
   "language": "python",
   "name": "conda-env-mapping-py"
  },
  "language_info": {
   "codemirror_mode": {
    "name": "ipython",
    "version": 3
   },
   "file_extension": ".py",
   "mimetype": "text/x-python",
   "name": "python",
   "nbconvert_exporter": "python",
   "pygments_lexer": "ipython3",
   "version": "3.9.7"
  }
 },
 "nbformat": 4,
 "nbformat_minor": 4
}
